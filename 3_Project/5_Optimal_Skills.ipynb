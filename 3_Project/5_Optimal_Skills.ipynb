{
 "cells": [
  {
   "cell_type": "markdown",
   "metadata": {},
   "source": [
    "## What is the most optimal skill to learn for Data Analysts?\n",
    "\n",
    "### Methodology\n",
    "1. Continue from last notebook to find percent of postings with skill\n",
    "2. Visualize median salary vs percent skill demand\n",
    "3. (optional) Determine if certain technologies are more prevalent"
   ]
  }
 ],
 "metadata": {
  "kernelspec": {
   "display_name": "python_course",
   "language": "python",
   "name": "python3"
  },
  "language_info": {
   "codemirror_mode": {
    "name": "ipython",
    "version": 3
   },
   "file_extension": ".py",
   "mimetype": "text/x-python",
   "name": "python",
   "nbconvert_exporter": "python",
   "pygments_lexer": "ipython3",
   "version": "3.11.9"
  }
 },
 "nbformat": 4,
 "nbformat_minor": 2
}
